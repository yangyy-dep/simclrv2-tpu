{
 "cells": [
  {
   "cell_type": "markdown",
   "source": [
    "#pytorch模型转换为onnx模型"
   ],
   "metadata": {
    "collapsed": false
   }
  },
  {
   "cell_type": "code",
   "execution_count": 2,
   "outputs": [],
   "source": [
    "#导入模块\n",
    "import torch\n",
    "import torch.onnx\n",
    "from net import SimCLRStage2"
   ],
   "metadata": {
    "collapsed": false,
    "ExecuteTime": {
     "end_time": "2024-04-01T09:04:44.776323Z",
     "start_time": "2024-04-01T09:04:41.061258800Z"
    }
   }
  },
  {
   "cell_type": "code",
   "execution_count": 4,
   "outputs": [],
   "source": [
    "#需要调整的有1.权重文件的路径；2.onnx模型的输出路径及名称\n",
    "#加载模型，simclrv2.pth替换为实际路径\n",
    "model = SimCLRStage2(num_class=10)\n",
    "model.eval()\n",
    "checkpoint = torch.load(r\"torch\\simclrv2.pth\", map_location=\"cpu\")\n",
    "model.load_state_dict(checkpoint)\n",
    "#输入\n",
    "input = torch.randn(1, 3, 32, 32, requires_grad=True)\n",
    "#转换onnx，simclrv2_bm1684x.onnx输出onnx模型名称\n",
    "torch.onnx.export(model,\n",
    "        input,\n",
    "        'simclrv2_bm1684x.onnx', # name of the exported onnx model\n",
    "        opset_version=15,\n",
    "        export_params=True,\n",
    "        do_constant_folding=True)"
   ],
   "metadata": {
    "collapsed": false,
    "ExecuteTime": {
     "end_time": "2024-04-01T09:05:34.333820200Z",
     "start_time": "2024-04-01T09:05:32.436893800Z"
    }
   }
  },
  {
   "cell_type": "markdown",
   "source": [
    "#测试不同模型的精度"
   ],
   "metadata": {
    "collapsed": false
   }
  },
  {
   "cell_type": "code",
   "execution_count": 5,
   "outputs": [],
   "source": [
    "#测试pytorch模型\n",
    "import torch\n",
    "from torchvision.datasets import CIFAR10\n",
    "from torchvision import transforms\n",
    "import net"
   ],
   "metadata": {
    "collapsed": false,
    "ExecuteTime": {
     "end_time": "2024-04-01T09:07:26.361317400Z",
     "start_time": "2024-04-01T09:07:26.353334600Z"
    }
   }
  },
  {
   "cell_type": "code",
   "execution_count": null,
   "outputs": [],
   "source": [
    "#需要调整的有1.测试数据下载的路径；2.batch_size可根据需要修改；3.加载的权重文件路径\n",
    "if torch.cuda.is_available():\n",
    "        DEVICE = torch.device(\"cuda:\" + str(0))\n",
    "        torch.backends.cudnn.benchmark = True\n",
    "else:\n",
    "        DEVICE = torch.device(\"cpu\")\n",
    "transform = transforms.Compose([transforms.ToTensor(), transforms.Normalize((0.4914, 0.4822, 0.4465), (0.2023, 0.1994, 0.2010))])\n",
    "#替换自己的下载路径\n",
    "eval_dataset=CIFAR10(root='dataset', train=False, transform=transforms, download=True)\n",
    "eval_data=torch.utils.data.DataLoader(eval_dataset,batch_size=1, shuffle=False, num_workers=16, )\n",
    "model=net.SimCLRStage2(num_class=10).to(DEVICE)\n",
    "#替换实际的权重文件路径\n",
    "model.load_state_dict(torch.load(r\"torch\\simclrv2.pth\", map_location='cpu'), strict=False)\n",
    "total_correct_1, total_correct_5, total_num = 0.0, 0.0, 0.0\n",
    "model.eval()\n",
    "with torch.no_grad():\n",
    "        print(\"batch\", \" \"*1, \"top1 acc\", \" \"*1,\"top5 acc\" )\n",
    "        for batch, (data, target) in enumerate(eval_data):\n",
    "            data, target = data.to(DEVICE) ,target.to(DEVICE)\n",
    "            pred=model(data)\n",
    "            data_size = len(eval_data)\n",
    "            print(\"eval_data的数据集大小为:\", data_size)\n",
    "            total_num += data.size(0)\n",
    "            prediction = torch.argsort(pred, dim=-1, descending=True)\n",
    "            top1_acc = torch.sum((prediction[:, 0:1] == target.unsqueeze(dim=-1)).any(dim=-1).float()).item()\n",
    "            top5_acc = torch.sum((prediction[:, 0:5] == target.unsqueeze(dim=-1)).any(dim=-1).float()).item()\n",
    "            total_correct_1 += top1_acc\n",
    "            total_correct_5 += top5_acc\n",
    "            print(\"  {:02}  \".format(batch+1),\" {:02.3f}%  \".format(top1_acc / data.size(0) * 100),\"{:02.3f}%  \".format(top5_acc / data.size(0) * 100))\n",
    "print(\"all eval dataset:\",\"top1 acc: {:02.3f}%\".format(total_correct_1 / total_num * 100), \"top5 acc:{:02.3f}%\".format(total_correct_5 / total_num * 100))"
   ],
   "metadata": {
    "collapsed": false,
    "is_executing": true
   }
  },
  {
   "cell_type": "code",
   "execution_count": null,
   "outputs": [],
   "source": [
    "#测试onnx模型精度\n",
    "import torch\n",
    "import torchvision\n",
    "import onnxruntime\n",
    "from torchvision import transforms\n",
    "import numpy as np"
   ],
   "metadata": {
    "collapsed": false,
    "is_executing": true
   }
  },
  {
   "cell_type": "code",
   "execution_count": null,
   "outputs": [],
   "source": [
    "#需要调整的有1.测试数据下载的路径；2.batch_size可根据需要修改；3.加载的onnx模型的路径\n",
    "# 加载 CIFAR-10 测试集\n",
    "transform = transforms.Compose([transforms.ToTensor(), transforms.Normalize((0.4914, 0.4822, 0.4465), (0.2023, 0.1994, 0.2010))])\n",
    "testset = torchvision.datasets.CIFAR10(root='dataset', train=False, download=True, transform=transform)\n",
    "testloader = torch.utils.data.DataLoader(testset, batch_size=1, shuffle=False, num_workers=16)\n",
    "\n",
    "# 加载 ONNX 模型，需要替换onnx的实际路径\n",
    "onnx_model_path = 'simclrv2_bm1684x.onnx'\n",
    "ort_session = onnxruntime.InferenceSession(onnx_model_path)\n",
    "\n",
    "# 获取输入和输出名称\n",
    "input_name = ort_session.get_inputs()[0].name\n",
    "output_name = ort_session.get_outputs()[0].name\n",
    "\n",
    "# 对测试集进行推理\n",
    "correct = 0\n",
    "total = 0\n",
    "\n",
    "for data in testloader:\n",
    "        images, labels = data\n",
    "        images_np = images.numpy()\n",
    "        outputs = ort_session.run([output_name], {input_name: images_np})\n",
    "        _, predicted = torch.max(torch.from_numpy(outputs[0]), 1)\n",
    "        total += labels.size(0)\n",
    "        correct += (predicted == labels).sum().item()\n",
    "print('准确率：%02.3f %%' % (100 * correct / total))"
   ],
   "metadata": {
    "collapsed": false,
    "is_executing": true
   }
  },
  {
   "cell_type": "code",
   "execution_count": null,
   "outputs": [],
   "source": [
    "#测试bmodel的精度\n",
    "import pickle\n",
    "import numpy as np\n",
    "import json"
   ],
   "metadata": {
    "collapsed": false,
    "is_executing": true
   }
  },
  {
   "cell_type": "code",
   "execution_count": null,
   "outputs": [],
   "source": [
    "def unpickle(file):\n",
    "    with open(file, 'rb') as fo:\n",
    "        dict = pickle.load(fo, encoding='bytes')\n",
    "    return dict"
   ],
   "metadata": {
    "collapsed": false,
    "is_executing": true
   }
  },
  {
   "cell_type": "code",
   "execution_count": null,
   "outputs": [],
   "source": [
    "#需要调整的有1.测试数据集的路径；2.分类结果json文件的路径\n",
    "#获取标签\n",
    "test_dict = unpickle(r'dataset\\test_batch')\n",
    "testlabels = np.array(test_dict[b'labels'])\n",
    "\n",
    "# 从 JSON 文件中读取预测结果\n",
    "with open(r'model_simclr_1b_f16.bmodel_test_batch_opencv_python_result.json', 'r') as file:\n",
    "    data = json.load(file)\n",
    "true_img = 0\n",
    "total = 0\n",
    "i = 0\n",
    "for prediction,label in zip(data,testlabels):\n",
    "    actual_label = label\n",
    "    predicted_label = prediction['prediction']\n",
    "    if actual_label == predicted_label:\n",
    "        true_img = true_img + 1\n",
    "    total = total+1\n",
    "acc = true_img / total\n",
    "print('准确率：%02.3f %%' % (100.0 * true_img / total))"
   ],
   "metadata": {
    "collapsed": false
   }
  }
 ],
 "metadata": {
  "kernelspec": {
   "name": "conda-env-torch-py",
   "language": "python",
   "display_name": "Python [conda env:torch]"
  },
  "language_info": {
   "codemirror_mode": {
    "name": "ipython",
    "version": 2
   },
   "file_extension": ".py",
   "mimetype": "text/x-python",
   "name": "python",
   "nbconvert_exporter": "python",
   "pygments_lexer": "ipython2",
   "version": "2.7.6"
  }
 },
 "nbformat": 4,
 "nbformat_minor": 0
}
